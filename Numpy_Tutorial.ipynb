{
  "nbformat": 4,
  "nbformat_minor": 0,
  "metadata": {
    "colab": {
      "provenance": [],
      "authorship_tag": "ABX9TyOcQQTuSu69al8IuVh9WfOG",
      "include_colab_link": true
    },
    "kernelspec": {
      "name": "python3",
      "display_name": "Python 3"
    },
    "language_info": {
      "name": "python"
    }
  },
  "cells": [
    {
      "cell_type": "markdown",
      "metadata": {
        "id": "view-in-github",
        "colab_type": "text"
      },
      "source": [
        "<a href=\"https://colab.research.google.com/github/ashu5644/120-Data-Science-Interview-Questions/blob/master/Numpy_Tutorial.ipynb\" target=\"_parent\"><img src=\"https://colab.research.google.com/assets/colab-badge.svg\" alt=\"Open In Colab\"/></a>"
      ]
    },
    {
      "cell_type": "code",
      "source": [
        "import numpy as np"
      ],
      "metadata": {
        "id": "RLzA2u2pOk17"
      },
      "execution_count": null,
      "outputs": []
    },
    {
      "cell_type": "code",
      "source": [],
      "metadata": {
        "id": "41pcxoM7Ozi-"
      },
      "execution_count": null,
      "outputs": []
    },
    {
      "cell_type": "markdown",
      "source": [
        "Python VS C Language\n",
        "1. Python language is human friendly and easier to code compared to C language.\n",
        "2. Python is relatively slow compared to C language.\n",
        "3. Python is application centric while C is OS centric i.e C is preferred in applications where we need to work close to OS and python is preffered in applications where we need to work close to software logic and don't care much on OS memory mangement etc.\n",
        "\n",
        "Numpy is written in C with python wrapper, so it gives us comfort of python syntax with speed of C.\n",
        "Complex mathematical operations can be computed very fast and efficently in Numpy, which are impossible to do with core python data structuers.\n",
        "\n",
        "\n",
        "Properties of Numpy -\n",
        " 1. Numpy core object is N-Dimnesional array\n",
        " 2. N-D array objects are homogeneous always, i.e single type of data can be stored in an object, which is similar to C language objects and essential for speed.\n",
        " 3. N-D array objects are of fixed size, i.e object size is static and not dynamic i.e predefined size, which is similar to C language objects and essential for speed."
      ],
      "metadata": {
        "id": "vnLTIudjP9hf"
      }
    },
    {
      "cell_type": "code",
      "source": [],
      "metadata": {
        "id": "ClHubwA1RwR1"
      },
      "execution_count": null,
      "outputs": []
    },
    {
      "cell_type": "markdown",
      "source": [],
      "metadata": {
        "id": "k0WY1kCjOijp"
      }
    }
  ]
}